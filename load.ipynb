{
 "cells": [
  {
   "cell_type": "code",
   "execution_count": 2,
   "metadata": {},
   "outputs": [
    {
     "name": "stderr",
     "output_type": "stream",
     "text": [
      "c:\\Users\\0mell\\.conda\\envs\\rag2\\lib\\site-packages\\pinecone\\data\\index.py:1: TqdmWarning: IProgress not found. Please update jupyter and ipywidgets. See https://ipywidgets.readthedocs.io/en/stable/user_install.html\n",
      "  from tqdm.autonotebook import tqdm\n"
     ]
    }
   ],
   "source": [
    "from dotenv import load_dotenv\n",
    "load_dotenv()\n",
    "import os\n",
    "from openai import OpenAI\n",
    "from pinecone import Pinecone, ServerlessSpec\n",
    "from openai.types import CreateEmbeddingResponse, Embedding"
   ]
  },
  {
   "cell_type": "code",
   "execution_count": 4,
   "metadata": {},
   "outputs": [],
   "source": [
    "pc = Pinecone(api_key=os.getenv(\"PINECONE_API_KEY\"))\n",
    "pc.create_index(\n",
    "    name=\"rag\", dimension=1536, metric=\"cosine\", spec=ServerlessSpec(cloud=\"aws\", region=\"us-east-1\")\n",
    ")"
   ]
  },
  {
   "cell_type": "code",
   "execution_count": null,
   "metadata": {},
   "outputs": [],
   "source": []
  },
  {
   "cell_type": "code",
   "execution_count": 5,
   "metadata": {},
   "outputs": [
    {
     "data": {
      "text/plain": [
       "[{'professor': 'John Smith',\n",
       "  'review': 'Great professor, explains concepts clearly and is very approachable.',\n",
       "  'subject': 'Math',\n",
       "  'stars': 5},\n",
       " {'professor': 'Susan Johnson',\n",
       "  'review': 'Engaging lectures and always willing to help students.',\n",
       "  'subject': 'Physics',\n",
       "  'stars': 4},\n",
       " {'professor': 'Michael Brown',\n",
       "  'review': 'Makes difficult topics easy to understand.',\n",
       "  'subject': 'Computer Science',\n",
       "  'stars': 5},\n",
       " {'professor': 'Emily Davis',\n",
       "  'review': 'Her classes are well-organized and informative.',\n",
       "  'subject': 'History',\n",
       "  'stars': 4},\n",
       " {'professor': 'Christopher Garcia',\n",
       "  'review': 'Enthusiastic about the subject and very knowledgeable.',\n",
       "  'subject': 'Chemistry',\n",
       "  'stars': 5},\n",
       " {'professor': 'Jessica Martinez',\n",
       "  'review': 'Always ready to answer questions and provide feedback.',\n",
       "  'subject': 'Biology',\n",
       "  'stars': 4},\n",
       " {'professor': 'David Wilson',\n",
       "  'review': 'His teaching style is engaging and easy to follow.',\n",
       "  'subject': 'Economics',\n",
       "  'stars': 5},\n",
       " {'professor': 'Sarah Lee',\n",
       "  'review': 'Provides real-world examples that make the material relatable.',\n",
       "  'subject': 'Marketing',\n",
       "  'stars': 4},\n",
       " {'professor': 'James Anderson',\n",
       "  'review': 'Very patient and always willing to help students.',\n",
       "  'subject': 'Philosophy',\n",
       "  'stars': 5},\n",
       " {'professor': 'Megan White',\n",
       "  'review': 'Keeps the class interesting and interactive.',\n",
       "  'subject': 'Psychology',\n",
       "  'stars': 4},\n",
       " {'professor': 'Robert Hall',\n",
       "  'review': 'Detailed explanations and always available for office hours.',\n",
       "  'subject': 'Engineering',\n",
       "  'stars': 5},\n",
       " {'professor': 'Patricia Young',\n",
       "  'review': 'Very supportive and encourages class participation.',\n",
       "  'subject': 'Sociology',\n",
       "  'stars': 4},\n",
       " {'professor': 'Kevin King',\n",
       "  'review': 'He makes learning fun and accessible.',\n",
       "  'subject': 'Art',\n",
       "  'stars': 5},\n",
       " {'professor': 'Karen Clark',\n",
       "  'review': 'Very knowledgeable and always prepared for lectures.',\n",
       "  'subject': 'Law',\n",
       "  'stars': 4},\n",
       " {'professor': 'Thomas Lewis',\n",
       "  'review': 'Challenges students to think critically and deeply.',\n",
       "  'subject': 'Political Science',\n",
       "  'stars': 5},\n",
       " {'professor': 'Michelle Walker',\n",
       "  'review': 'Her passion for teaching is evident in every class.',\n",
       "  'subject': 'Literature',\n",
       "  'stars': 4},\n",
       " {'professor': 'Charles Robinson',\n",
       "  'review': 'Uses a lot of practical examples to explain complex theories.',\n",
       "  'subject': 'Statistics',\n",
       "  'stars': 5},\n",
       " {'professor': 'Laura Harris',\n",
       "  'review': 'Her teaching methods are innovative and effective.',\n",
       "  'subject': 'Education',\n",
       "  'stars': 4},\n",
       " {'professor': 'Matthew Perez',\n",
       "  'review': 'Great at making connections between course material and real life.',\n",
       "  'subject': 'Geography',\n",
       "  'stars': 5},\n",
       " {'professor': 'Sophia Thompson',\n",
       "  'review': 'Encourages creativity and independent thinking.',\n",
       "  'subject': 'Creative Writing',\n",
       "  'stars': 4}]"
      ]
     },
     "execution_count": 5,
     "metadata": {},
     "output_type": "execute_result"
    }
   ],
   "source": [
    "import json\n",
    "data = json.load(open(\"reviews.json\"))\n",
    "data['reviews']"
   ]
  },
  {
   "cell_type": "code",
   "execution_count": null,
   "metadata": {},
   "outputs": [],
   "source": []
  },
  {
   "cell_type": "code",
   "execution_count": 7,
   "metadata": {},
   "outputs": [
    {
     "name": "stdout",
     "output_type": "stream",
     "text": [
      "Upserted count: 20\n",
      "{'dimension': 1536,\n",
      " 'index_fullness': 0.0,\n",
      " 'namespaces': {},\n",
      " 'total_vector_count': 0}\n"
     ]
    }
   ],
   "source": [
    "processed_data = []\n",
    "client = OpenAI()\n",
    "\n",
    "# Create embeddings for each review\n",
    "for review in data[\"reviews\"]:\n",
    "    response = client.embeddings.create(\n",
    "        input=review['review'], model=\"text-embedding-3-small\"\n",
    "    )\n",
    "    embedding = response.data[0].embedding\n",
    "    processed_data.append(\n",
    "        {\n",
    "            \"values\": embedding,\n",
    "            \"id\": review[\"professor\"],\n",
    "            \"metadata\":{\n",
    "                \"review\": review[\"review\"],\n",
    "                \"subject\": review[\"subject\"],\n",
    "                \"stars\": review[\"stars\"],\n",
    "            }\n",
    "        }\n",
    "    )\n",
    "\n",
    "# Insert the embeddings into the Pinecone index\n",
    "index = pc.Index(\"rag\")\n",
    "upsert_response = index.upsert(\n",
    "    vectors=processed_data,\n",
    "    namespace=\"ns1\",\n",
    ")\n",
    "print(f\"Upserted count: {upsert_response['upserted_count']}\")\n",
    "\n",
    "# Print index statistics\n",
    "print(index.describe_index_stats())"
   ]
  },
  {
   "cell_type": "code",
   "execution_count": null,
   "metadata": {},
   "outputs": [],
   "source": []
  },
  {
   "cell_type": "code",
   "execution_count": null,
   "metadata": {},
   "outputs": [],
   "source": []
  },
  {
   "cell_type": "code",
   "execution_count": null,
   "metadata": {},
   "outputs": [],
   "source": []
  },
  {
   "cell_type": "code",
   "execution_count": null,
   "metadata": {},
   "outputs": [],
   "source": []
  },
  {
   "cell_type": "code",
   "execution_count": null,
   "metadata": {},
   "outputs": [],
   "source": []
  },
  {
   "cell_type": "code",
   "execution_count": null,
   "metadata": {},
   "outputs": [],
   "source": []
  }
 ],
 "metadata": {
  "kernelspec": {
   "display_name": "rag",
   "language": "python",
   "name": "python3"
  },
  "language_info": {
   "codemirror_mode": {
    "name": "ipython",
    "version": 3
   },
   "file_extension": ".py",
   "mimetype": "text/x-python",
   "name": "python",
   "nbconvert_exporter": "python",
   "pygments_lexer": "ipython3",
   "version": "3.10.14"
  }
 },
 "nbformat": 4,
 "nbformat_minor": 2
}
